{
 "cells": [
  {
   "cell_type": "code",
   "execution_count": 30,
   "metadata": {},
   "outputs": [
    {
     "name": "stdout",
     "output_type": "stream",
     "text": [
      "[['SU_ID: CaseID', 'FINALWT: Post-stratification', 'SURV_MODE: Survey interview\\nmode (online or phone)', 'SURV_LANG: Survey Interview', 'CUR1: Generally speaking, would\\nyou say things in this country are\\nheading in the…', 'CUR3AB: Overall, do you', 'CURY2A: [The economy] Overall,\\ndo you approve or disapprove of\\nthe way Joe Biden is handling…?', 'CURY2B: [The coronavirus', 'CURY2C: [Health care] Overall,\\ndo you approve or disapprove of\\nthe way Joe Biden is handling…?', 'CURY2D: [Immigration] Overall,', 'CURY2E: [Foreign policy]\\nOverall, do you approve or\\ndisapprove of the way Joe Biden\\nis handling…?', 'CURY2F: [The U.S. relationship', 'CURY2G: [The conflict between\\nthe Israelis and Palestinians]\\nOverall, do you approve or\\ndisapprove of the way Joe Biden\\nis handling…?'], ['B1AB: How would you describe', 'GOVTA: [Families with children]\\nIs the U.S. government spending\\ntoo much, too little, or about the\\nright amount to support…', 'GOVTB: [Medical care for women', 'GOVTC: [Reproductive health\\nservices, such as family planning\\nand birth control] Is the U.S.\\ngovernment spending too much,\\ntoo little, or about the right\\namount to support…', 'GOVTD: [The foster care system]', 'GOVTE: [Families who adopt\\nchildren] Is the U.S. government\\nspending too much, too little, or\\nabout the right amount to\\nsupport…', 'VIRUS2A: [The coronavirus] How', 'VIRUS2B: [The flu] How worried\\nare you about you or someone in\\nyour family being infected with…', 'VIRUS6A: [Your state', 'VIRUS6B: [Your city or local\\ngovernment] Do you approve,\\ndisapprove, or neither approve\\nnor disapprove of how each of\\nthe following is handling the\\ncoronavirus outbreak?'], ['VIRUS6C: [The federal', 'VIRUS6D: [Leaders in Congress]\\nDo you approve, disapprove, or\\nneither approve nor disapprove of\\nhow each of the following is\\nhandling the coronavirus\\noutbreak?', 'VIRUS7A: [Avoiding nonessential', 'are you:', 'VIRUS7B: [Staying away from\\nlarge groups] Because of the\\ncoronavirus pandemic, how often\\nare you:', 'VIRUS7C: [Avoiding other people', 'often are you:', \"VIRUS7D: [Wearing a face mask\\nwhen you're around other people\\noutside your home] Because of\\nthe coronavirus pandemic, how\\noften are you:\", 'REOPEN1A: [Attend religious', 'often did you:', 'REOPEN1B: [Visit friends or\\nfamily] Before the coronavirus\\noutbreak, about how often did\\nyou:', 'REOPEN1C: [Get a haircut]', 'about how often did you:', 'REOPEN1D: [Use public\\ntransportation] Before the\\ncoronavirus outbreak, about how\\noften did you:', 'REOPEN1E: [Travel] Before the', 'often did you:'], ['REOPEN1F: [Go out to a bar or\\nrestaurant] Before the\\ncoronavirus outbreak, about how\\noften did you:', 'REOPEN1G: [Go to the movies,', 'how often did you:', 'REOPEN1H: [Attend a sporting\\nevent] Before the coronavirus\\noutbreak, about how often did\\nyou:', 'REOPEN1I: [Exercise at a gym or', 'you:', 'REOPEN1J: [Go shopping in\\nperson for non-essential items]\\nBefore the coronavirus outbreak,\\nabout how often did you:', 'REOPEN2A: [Attend religious', 'few weeks, will you personally:', 'REOPEN2B: [Visit friends or\\nfamily] In the next few weeks, will\\nyou personally:', 'REOPEN2C: [Get a haircut] In', 'personally:', 'REOPEN2D: [Use public\\ntransportation] In the next few\\nweeks, will you personally:', 'REOPEN2E: [Travel] In the next', 'few weeks, will you personally:', 'REOPEN2F: [Go out to a bar or\\nrestaurant] In the next few weeks,\\nwill you personally:', 'REOPEN2G: [Go to the movies,', 'personally:', 'REOPEN2H: [Attend a sporting\\nevent] In the next few weeks, will\\nyou personally:'], ['REOPEN2I: [Exercise at a gym or', 'you personally:', 'REOPEN2J: [Go shopping in\\nperson for non-essential items] In\\nthe next few weeks, will you\\npersonally:', 'REOPEN3A: [Indoor activities', 'participate in:', 'REOPEN3B: [Outdoor activities]\\nIn the next few weeks, how likely\\nis it that you will wear a face\\nmask if you participate in:', 'REOPEN4: Overall, thinking', 'REOPEN5: Do you think\\nrestrictions that were put in place\\nin your area to prevent the\\ncoronavirus from spreading have\\nbeen lifted too quickly, not quickly\\nenough, or are about right?', 'ABO1: Which comes closest to', 'ABO2: Regardless of your\\nopinion about abortion, which do\\nyou think should have a larger\\nresponsibility for making laws\\nrelated to abortion: each state\\ngovernment or the federal\\ngovernment?', 'ABO3A: [The child would be born'], ['ABO3B: [The woman’s own\\nhealth is seriously endangered by\\nthe pregnancy] Please say\\nwhether or not you think it should\\nbe possible for a pregnant\\nwoman to obtain a legal abortion\\nif…', 'ABO3C: [The woman became', 'ABO3D: [The woman does not\\nwant to be pregnant for any\\nreason] Please say whether or\\nnot you think it should be possible\\nfor a pregnant woman to obtain a\\nlegal abortion if…', 'ABO6A: [The first trimester, that', 'during:', 'ABO6B: [The second trimester,\\nthat is, months 4 through 6] Do\\nyou think abortion should be legal\\nin all cases, legal in most cases,\\nillegal in most cases, or illegal in\\nall cases during:', 'ABO6C: [The last trimester, that', 'all cases during:', 'MIDEAST1A: [The Israelis]\\nThinking about the conflict\\nbetween the Israelis and the\\nPalestinians, do you think the\\nUnited States is too supportive,\\nnot supportive enough, or about\\nright in its support of each of the\\nfollowing?'], ['MIDEAST1B: [The Palestinians]', 'MIDEAST2: Do you think the\\nUnited States should have a\\nmajor role, a minor role, or no\\nrole in finding a solution to the\\nconflict between the Israelis and\\nthe Palestinians?', 'MIDEAST3: Do you think a way', 'RELIG: What is your present\\nreligion, if any?', 'BORN: Would you describe', 'VAX3: Have you received at least\\none dose of a COVID-19\\nvaccine?', 'APVAX7: Will you…', 'WAGE1: If you were offered a\\nnew job, what is the lowest wage\\nor salary you would be willing to\\naccept?', 'WAGE2: In the last month, have', 'WAGE3: Which of the following\\nbest describes why you are not\\nwilling to apply for those jobs?', 'WAGE4: Are you or someone in']]\n"
     ]
    }
   ],
   "source": [
    "## python3 -m pip install \"pdfplumber\"\n",
    "import pdfplumber\n",
    "pdf = pdfplumber.open(\"June 2021 AP-NORC PUF codebook.pdf\")\n",
    "questions = []\n",
    "\n",
    "for i in range(4,11):\n",
    "\n",
    "    \n",
    "    page = pdf.pages[i]\n",
    "    extracted = page.extract_table()\n",
    "\n",
    "    def extract_values_with_char(list_of_lists, char):\n",
    "        result = []\n",
    "        for sublist in list_of_lists:\n",
    "            for item in sublist:\n",
    "                if isinstance(item, str) and char in item:\n",
    "                    result.append(item)\n",
    "        return result\n",
    "\n",
    "    data = extracted\n",
    "    char_to_find = \":\"\n",
    "\n",
    "    result = extract_values_with_char(data, char_to_find)\n",
    "\n",
    "    questions.append(result)\n",
    "\n",
    "\n",
    "print(questions)"
   ]
  }
 ],
 "metadata": {
  "kernelspec": {
   "display_name": "Python 3",
   "language": "python",
   "name": "python3"
  },
  "language_info": {
   "codemirror_mode": {
    "name": "ipython",
    "version": 3
   },
   "file_extension": ".py",
   "mimetype": "text/x-python",
   "name": "python",
   "nbconvert_exporter": "python",
   "pygments_lexer": "ipython3",
   "version": "3.8.9"
  }
 },
 "nbformat": 4,
 "nbformat_minor": 2
}
