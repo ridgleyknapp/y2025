{
 "cells": [
  {
   "cell_type": "code",
   "execution_count": 20,
   "metadata": {},
   "outputs": [],
   "source": [
    "## python3 -m pip install \"pdfplumber\"\n",
    "import pdfplumber\n",
    "import pandas as pd\n",
    "\n",
    "pdf = pdfplumber.open(\"June 2021 AP-NORC PUF codebook.pdf\")\n",
    "questions = []\n",
    "\n",
    "for i in range(4,11):\n",
    "\n",
    "    \n",
    "    page = pdf.pages[i]\n",
    "    extracted = page.extract_table()\n",
    "\n",
    "    def extract_values_with_char(list_of_lists, char):\n",
    "        result = []\n",
    "        for sublist in list_of_lists:\n",
    "            for item in sublist:\n",
    "                if isinstance(item, str) and char in item:\n",
    "                    result.append(item)\n",
    "        return result\n",
    "\n",
    "    data = extracted\n",
    "    char_to_find = \":\"\n",
    "\n",
    "    result = extract_values_with_char(data, char_to_find)\n",
    "\n",
    "    questions.append(result)\n",
    "\n",
    "# print(questions)\n",
    "    \n",
    "data = pd.read_csv('APNORC_june2021_PUF.csv')\n",
    "methodological = [\"SU_ID\",\"FINALWT\"]\n",
    "variables = [\"POLITICS\",\"DEMO\",\"REPUB\",\"INDEP\",\"IDEO\",\"URBAN\",\"MARITAL\",\"AGEGRP\",\"EDUCATION\",\"RACETH\",\"GENDER\",\"HHINCOME\",\"EMPSTATUS\",\"CENSUS_REGION\",\"SURV_MODE\",\"SURV_LANG\"]\n",
    "qprovided = [col for col in data.columns if col not in variables and col not in methodological and col != \"STATE\"]\n"
   ]
  },
  {
   "cell_type": "code",
   "execution_count": 21,
   "metadata": {},
   "outputs": [
    {
     "name": "stdout",
     "output_type": "stream",
     "text": [
      "Pick a variable from the following: POLITICS, DEMO, REPUB, INDEP, IDEO, URBAN, MARITAL, AGEGRP, EDUCATION, RACETH, GENDER, HHINCOME, EMPSTATUS, CENSUS_REGION, SURV_MODE, SURV_LANG\n"
     ]
    }
   ],
   "source": [
    "prompt = \"\".join([\"Pick a variable from the following: \",\", \".join(variables)])\n",
    "print(prompt)\n",
    "variable = input(prompt)"
   ]
  },
  {
   "cell_type": "code",
   "execution_count": 22,
   "metadata": {},
   "outputs": [
    {
     "name": "stdout",
     "output_type": "stream",
     "text": [
      "Pick a question code from the following: CUR1, CUR3AB, CURY2A, CURY2B, CURY2C, CURY2D, CURY2E, CURY2F, CURY2G, B1AB, GOVTA, GOVTB, GOVTC, GOVTD, GOVTE, VIRUS2A, VIRUS2B, VIRUS6A, VIRUS6B, VIRUS6C, VIRUS6D, VIRUS7A, VIRUS7B, VIRUS7C, VIRUS7D, REOPEN1A, REOPEN1B, REOPEN1C, REOPEN1D, REOPEN1E, REOPEN1F, REOPEN1G, REOPEN1H, REOPEN1I, REOPEN1J, REOPEN2A, REOPEN2B, REOPEN2C, REOPEN2D, REOPEN2E, REOPEN2F, REOPEN2G, REOPEN2H, REOPEN2I, REOPEN2J, REOPEN3A, REOPEN3B, REOPEN4, REOPEN5, ABO1, ABO2, ABO3A, ABO3B, ABO3C, ABO3D, ABO6A, ABO6B, ABO6C, MIDEAST1A, MIDEAST1B, MIDEAST2, MIDEAST3, RELIG, BORN, VAX3, APVAX7, WAGE_1, WAGE2, WAGE3, WAGE4\n"
     ]
    }
   ],
   "source": [
    "promptq = \"\".join([\"Pick a question code from the following: \",\", \".join(qprovided)])\n",
    "print(promptq)\n",
    "question = input(promptq)"
   ]
  },
  {
   "cell_type": "code",
   "execution_count": 23,
   "metadata": {},
   "outputs": [
    {
     "ename": "KeyError",
     "evalue": "''",
     "output_type": "error",
     "traceback": [
      "\u001b[0;31m---------------------------------------------------------------------------\u001b[0m",
      "\u001b[0;31mKeyError\u001b[0m                                  Traceback (most recent call last)",
      "File \u001b[0;32m~/Library/Python/3.8/lib/python/site-packages/pandas/core/indexes/base.py:3653\u001b[0m, in \u001b[0;36mIndex.get_loc\u001b[0;34m(self, key)\u001b[0m\n\u001b[1;32m   3652\u001b[0m \u001b[39mtry\u001b[39;00m:\n\u001b[0;32m-> 3653\u001b[0m     \u001b[39mreturn\u001b[39;00m \u001b[39mself\u001b[39;49m\u001b[39m.\u001b[39;49m_engine\u001b[39m.\u001b[39;49mget_loc(casted_key)\n\u001b[1;32m   3654\u001b[0m \u001b[39mexcept\u001b[39;00m \u001b[39mKeyError\u001b[39;00m \u001b[39mas\u001b[39;00m err:\n",
      "File \u001b[0;32m~/Library/Python/3.8/lib/python/site-packages/pandas/_libs/index.pyx:147\u001b[0m, in \u001b[0;36mpandas._libs.index.IndexEngine.get_loc\u001b[0;34m()\u001b[0m\n",
      "File \u001b[0;32m~/Library/Python/3.8/lib/python/site-packages/pandas/_libs/index.pyx:176\u001b[0m, in \u001b[0;36mpandas._libs.index.IndexEngine.get_loc\u001b[0;34m()\u001b[0m\n",
      "File \u001b[0;32mpandas/_libs/hashtable_class_helper.pxi:7080\u001b[0m, in \u001b[0;36mpandas._libs.hashtable.PyObjectHashTable.get_item\u001b[0;34m()\u001b[0m\n",
      "File \u001b[0;32mpandas/_libs/hashtable_class_helper.pxi:7088\u001b[0m, in \u001b[0;36mpandas._libs.hashtable.PyObjectHashTable.get_item\u001b[0;34m()\u001b[0m\n",
      "\u001b[0;31mKeyError\u001b[0m: ''",
      "\nThe above exception was the direct cause of the following exception:\n",
      "\u001b[0;31mKeyError\u001b[0m                                  Traceback (most recent call last)",
      "\u001b[1;32m/Users/yehyland/iCloud Drive (Archive)/Desktop/RPK/githublink/y2025/y2025/basic_interactive.ipynb Cell 4\u001b[0m line \u001b[0;36m1\n\u001b[1;32m      <a href='vscode-notebook-cell:/Users/yehyland/iCloud%20Drive%20%28Archive%29/Desktop/RPK/githublink/y2025/y2025/basic_interactive.ipynb#X10sZmlsZQ%3D%3D?line=3'>4</a>\u001b[0m \u001b[39mfrom\u001b[39;00m \u001b[39mipywidgets\u001b[39;00m \u001b[39mimport\u001b[39;00m interact\n\u001b[1;32m      <a href='vscode-notebook-cell:/Users/yehyland/iCloud%20Drive%20%28Archive%29/Desktop/RPK/githublink/y2025/y2025/basic_interactive.ipynb#X10sZmlsZQ%3D%3D?line=5'>6</a>\u001b[0m \u001b[39m# question = \"CUR1\"\u001b[39;00m\n\u001b[1;32m      <a href='vscode-notebook-cell:/Users/yehyland/iCloud%20Drive%20%28Archive%29/Desktop/RPK/githublink/y2025/y2025/basic_interactive.ipynb#X10sZmlsZQ%3D%3D?line=6'>7</a>\u001b[0m \u001b[39m# variable = \"POLITICS\"\u001b[39;00m\n\u001b[1;32m      <a href='vscode-notebook-cell:/Users/yehyland/iCloud%20Drive%20%28Archive%29/Desktop/RPK/githublink/y2025/y2025/basic_interactive.ipynb#X10sZmlsZQ%3D%3D?line=7'>8</a>\u001b[0m \u001b[39m# print(question)\u001b[39;00m\n\u001b[1;32m      <a href='vscode-notebook-cell:/Users/yehyland/iCloud%20Drive%20%28Archive%29/Desktop/RPK/githublink/y2025/y2025/basic_interactive.ipynb#X10sZmlsZQ%3D%3D?line=8'>9</a>\u001b[0m \u001b[39m# print(variable)\u001b[39;00m\n\u001b[0;32m---> <a href='vscode-notebook-cell:/Users/yehyland/iCloud%20Drive%20%28Archive%29/Desktop/RPK/githublink/y2025/y2025/basic_interactive.ipynb#X10sZmlsZQ%3D%3D?line=10'>11</a>\u001b[0m data[variable] \u001b[39m=\u001b[39m data[variable]\u001b[39m.\u001b[39mwhere(data[variable] \u001b[39m!=\u001b[39m data[variable]\u001b[39m.\u001b[39mstr\u001b[39m.\u001b[39mupper(), \u001b[39m\"\u001b[39m\u001b[39mDK/SKP/REF\u001b[39m\u001b[39m\"\u001b[39m)\n\u001b[1;32m     <a href='vscode-notebook-cell:/Users/yehyland/iCloud%20Drive%20%28Archive%29/Desktop/RPK/githublink/y2025/y2025/basic_interactive.ipynb#X10sZmlsZQ%3D%3D?line=11'>12</a>\u001b[0m data[question] \u001b[39m=\u001b[39m data[question]\u001b[39m.\u001b[39mwhere(data[question] \u001b[39m!=\u001b[39m data[question]\u001b[39m.\u001b[39mstr\u001b[39m.\u001b[39mupper(), \u001b[39m\"\u001b[39m\u001b[39mDK/SKP/REF\u001b[39m\u001b[39m\"\u001b[39m)\n\u001b[1;32m     <a href='vscode-notebook-cell:/Users/yehyland/iCloud%20Drive%20%28Archive%29/Desktop/RPK/githublink/y2025/y2025/basic_interactive.ipynb#X10sZmlsZQ%3D%3D?line=14'>15</a>\u001b[0m \u001b[39m# result2 = \" \".join([variable, \" X \", extract_values_with_char(questions, question)[0].replace(\"\\n\",\" \")])\u001b[39;00m\n\u001b[1;32m     <a href='vscode-notebook-cell:/Users/yehyland/iCloud%20Drive%20%28Archive%29/Desktop/RPK/githublink/y2025/y2025/basic_interactive.ipynb#X10sZmlsZQ%3D%3D?line=15'>16</a>\u001b[0m \u001b[39m# print(result2)\u001b[39;00m\n",
      "File \u001b[0;32m~/Library/Python/3.8/lib/python/site-packages/pandas/core/frame.py:3761\u001b[0m, in \u001b[0;36mDataFrame.__getitem__\u001b[0;34m(self, key)\u001b[0m\n\u001b[1;32m   3759\u001b[0m \u001b[39mif\u001b[39;00m \u001b[39mself\u001b[39m\u001b[39m.\u001b[39mcolumns\u001b[39m.\u001b[39mnlevels \u001b[39m>\u001b[39m \u001b[39m1\u001b[39m:\n\u001b[1;32m   3760\u001b[0m     \u001b[39mreturn\u001b[39;00m \u001b[39mself\u001b[39m\u001b[39m.\u001b[39m_getitem_multilevel(key)\n\u001b[0;32m-> 3761\u001b[0m indexer \u001b[39m=\u001b[39m \u001b[39mself\u001b[39;49m\u001b[39m.\u001b[39;49mcolumns\u001b[39m.\u001b[39;49mget_loc(key)\n\u001b[1;32m   3762\u001b[0m \u001b[39mif\u001b[39;00m is_integer(indexer):\n\u001b[1;32m   3763\u001b[0m     indexer \u001b[39m=\u001b[39m [indexer]\n",
      "File \u001b[0;32m~/Library/Python/3.8/lib/python/site-packages/pandas/core/indexes/base.py:3655\u001b[0m, in \u001b[0;36mIndex.get_loc\u001b[0;34m(self, key)\u001b[0m\n\u001b[1;32m   3653\u001b[0m     \u001b[39mreturn\u001b[39;00m \u001b[39mself\u001b[39m\u001b[39m.\u001b[39m_engine\u001b[39m.\u001b[39mget_loc(casted_key)\n\u001b[1;32m   3654\u001b[0m \u001b[39mexcept\u001b[39;00m \u001b[39mKeyError\u001b[39;00m \u001b[39mas\u001b[39;00m err:\n\u001b[0;32m-> 3655\u001b[0m     \u001b[39mraise\u001b[39;00m \u001b[39mKeyError\u001b[39;00m(key) \u001b[39mfrom\u001b[39;00m \u001b[39merr\u001b[39;00m\n\u001b[1;32m   3656\u001b[0m \u001b[39mexcept\u001b[39;00m \u001b[39mTypeError\u001b[39;00m:\n\u001b[1;32m   3657\u001b[0m     \u001b[39m# If we have a listlike key, _check_indexing_error will raise\u001b[39;00m\n\u001b[1;32m   3658\u001b[0m     \u001b[39m#  InvalidIndexError. Otherwise we fall through and re-raise\u001b[39;00m\n\u001b[1;32m   3659\u001b[0m     \u001b[39m#  the TypeError.\u001b[39;00m\n\u001b[1;32m   3660\u001b[0m     \u001b[39mself\u001b[39m\u001b[39m.\u001b[39m_check_indexing_error(key)\n",
      "\u001b[0;31mKeyError\u001b[0m: ''"
     ]
    }
   ],
   "source": [
    "import plotnine\n",
    "from plotnine import ggplot, geom_point, aes, stat_smooth, facet_wrap, geom_bar, labs, theme, element_text, scale_x_discrete\n",
    "import textwrap\n",
    "from ipywidgets import interact\n",
    "\n",
    "# question = \"CUR1\"\n",
    "# variable = \"POLITICS\"\n",
    "# print(question)\n",
    "# print(variable)\n",
    "\n",
    "data[variable] = data[variable].where(data[variable] != data[variable].str.upper(), \"DK/SKP/REF\")\n",
    "data[question] = data[question].where(data[question] != data[question].str.upper(), \"DK/SKP/REF\")\n",
    "\n",
    "\n",
    "# result2 = \" \".join([variable, \" X \", extract_values_with_char(questions, question)[0].replace(\"\\n\",\" \")])\n",
    "# print(result2)\n",
    "\n",
    "@interact\n",
    "def test_interactive(x = list(variables),\n",
    "                     y = list(qprovided)):\n",
    "    \n",
    "    result2 = \" \".join([x, \" X \", extract_values_with_char(questions, y)[0].replace(\"\\n\",\" \")])\n",
    "    print(result2)\n",
    "\n",
    "    # result2 = extract_values_with_char(questions, y)\n",
    "\n",
    "    data[x] = data[x].where(data[x] != data[x].str.upper(), \"DK/SKP/REF\")\n",
    "    data[y] = data[y].where(data[y] != data[y].str.upper(), \"DK/SKP/REF\")\n",
    "\n",
    "\n",
    "    return print(ggplot(data) + \n",
    "                    aes(x = x, y = \"FINALWT\", fill = y) +\n",
    "                    geom_bar(stat = \"identity\", position = \"fill\") +\n",
    "                    # labs(x = x, y = \"PROPORTION\", fill = \"Response\", title = \" \".join([x, \"x\", result2[0].replace(\"\",\"\")])) +\n",
    "                    labs(x = x, y = \"PROPORTION\", fill = \"Response\") +\n",
    "                    theme(axis_text_x=element_text(angle=45, hjust=1))\n",
    "        )\n",
    "\n",
    "# print(plotxyz)\n",
    "# print(result2)\n",
    "# print(questions)"
   ]
  },
  {
   "cell_type": "code",
   "execution_count": null,
   "metadata": {},
   "outputs": [],
   "source": []
  }
 ],
 "metadata": {
  "kernelspec": {
   "display_name": "Python 3",
   "language": "python",
   "name": "python3"
  },
  "language_info": {
   "codemirror_mode": {
    "name": "ipython",
    "version": 3
   },
   "file_extension": ".py",
   "mimetype": "text/x-python",
   "name": "python",
   "nbconvert_exporter": "python",
   "pygments_lexer": "ipython3",
   "version": "3.8.9"
  }
 },
 "nbformat": 4,
 "nbformat_minor": 2
}
