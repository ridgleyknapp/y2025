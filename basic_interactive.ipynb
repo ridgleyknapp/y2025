{
 "cells": [
  {
   "cell_type": "code",
   "execution_count": 1,
   "metadata": {},
   "outputs": [],
   "source": [
    "## python3 -m pip install \"pdfplumber\"\n",
    "import pdfplumber\n",
    "import pandas as pd\n",
    "\n",
    "pdf = pdfplumber.open(\"June 2021 AP-NORC PUF codebook.pdf\")\n",
    "questions = []\n",
    "\n",
    "for i in range(4,11):\n",
    "\n",
    "    \n",
    "    page = pdf.pages[i]\n",
    "    extracted = page.extract_table()\n",
    "\n",
    "    def extract_values_with_char(list_of_lists, char):\n",
    "        result = []\n",
    "        for sublist in list_of_lists:\n",
    "            for item in sublist:\n",
    "                if isinstance(item, str) and char in item:\n",
    "                    result.append(item)\n",
    "        return result\n",
    "\n",
    "    data = extracted\n",
    "    char_to_find = \":\"\n",
    "\n",
    "    result = extract_values_with_char(data, char_to_find)\n",
    "\n",
    "    questions.append(result)\n",
    "\n",
    "# print(questions)\n",
    "    \n",
    "data = pd.read_csv('APNORC_june2021_PUF.csv')\n",
    "methodological = [\"SU_ID\",\"FINALWT\"]\n",
    "variables = [\"POLITICS\",\"DEMO\",\"REPUB\",\"INDEP\",\"IDEO\",\"URBAN\",\"MARITAL\",\"AGEGRP\",\"EDUCATION\",\"RACETH\",\"GENDER\",\"HHINCOME\",\"EMPSTATUS\",\"CENSUS_REGION\",\"SURV_MODE\",\"SURV_LANG\"]\n",
    "qprovided = [col for col in data.columns if col not in variables and col not in methodological and col != \"STATE\"]\n"
   ]
  },
  {
   "cell_type": "code",
   "execution_count": 2,
   "metadata": {},
   "outputs": [
    {
     "name": "stdout",
     "output_type": "stream",
     "text": [
      "Pick a variable from the following: POLITICS, DEMO, REPUB, INDEP, IDEO, URBAN, MARITAL, AGEGRP, EDUCATION, RACETH, GENDER, HHINCOME, EMPSTATUS, CENSUS_REGION, SURV_MODE, SURV_LANG\n"
     ]
    }
   ],
   "source": [
    "prompt = \"\".join([\"Pick a variable from the following: \",\", \".join(variables)])\n",
    "print(prompt)\n",
    "variable = input(prompt)"
   ]
  },
  {
   "cell_type": "code",
   "execution_count": 3,
   "metadata": {},
   "outputs": [
    {
     "name": "stdout",
     "output_type": "stream",
     "text": [
      "Pick a question code from the following: CUR1, CUR3AB, CURY2A, CURY2B, CURY2C, CURY2D, CURY2E, CURY2F, CURY2G, B1AB, GOVTA, GOVTB, GOVTC, GOVTD, GOVTE, VIRUS2A, VIRUS2B, VIRUS6A, VIRUS6B, VIRUS6C, VIRUS6D, VIRUS7A, VIRUS7B, VIRUS7C, VIRUS7D, REOPEN1A, REOPEN1B, REOPEN1C, REOPEN1D, REOPEN1E, REOPEN1F, REOPEN1G, REOPEN1H, REOPEN1I, REOPEN1J, REOPEN2A, REOPEN2B, REOPEN2C, REOPEN2D, REOPEN2E, REOPEN2F, REOPEN2G, REOPEN2H, REOPEN2I, REOPEN2J, REOPEN3A, REOPEN3B, REOPEN4, REOPEN5, ABO1, ABO2, ABO3A, ABO3B, ABO3C, ABO3D, ABO6A, ABO6B, ABO6C, MIDEAST1A, MIDEAST1B, MIDEAST2, MIDEAST3, RELIG, BORN, VAX3, APVAX7, WAGE_1, WAGE2, WAGE3, WAGE4\n"
     ]
    }
   ],
   "source": [
    "promptq = \"\".join([\"Pick a question code from the following: \",\", \".join(qprovided)])\n",
    "print(promptq)\n",
    "question = input(promptq)"
   ]
  },
  {
   "cell_type": "code",
   "execution_count": 7,
   "metadata": {},
   "outputs": [
    {
     "data": {
      "application/vnd.jupyter.widget-view+json": {
       "model_id": "700a8e90936a40bca9180cd6e3723de1",
       "version_major": 2,
       "version_minor": 0
      },
      "text/plain": [
       "interactive(children=(Dropdown(description='x', options=('POLITICS', 'DEMO', 'REPUB', 'INDEP', 'IDEO', 'URBAN'…"
      ]
     },
     "metadata": {},
     "output_type": "display_data"
    }
   ],
   "source": [
    "import plotnine\n",
    "from plotnine import ggplot, geom_point, aes, stat_smooth, facet_wrap, geom_bar, labs, theme, element_text, scale_x_discrete\n",
    "import textwrap\n",
    "from ipywidgets import interact\n",
    "\n",
    "def wraping_func(text):\n",
    "    return [textwrap.fill(wraped_text, 5) for wraped_text in text]\n",
    "\n",
    "# question = \"CUR1\"\n",
    "# variable = \"POLITICS\"\n",
    "# print(question)\n",
    "# print(variable)\n",
    "\n",
    "data[variable] = data[variable].where(data[variable] != data[variable].str.upper(), \"DK/SKP/REF\")\n",
    "data[question] = data[question].where(data[question] != data[question].str.upper(), \"DK/SKP/REF\")\n",
    "\n",
    "\n",
    "# result2 = \" \".join([variable, \" X \", extract_values_with_char(questions, question)[0].replace(\"\\n\",\" \")])\n",
    "# print(result2)\n",
    "\n",
    "@interact\n",
    "def test_interactive(x = list(variables),\n",
    "                     y = list(qprovided)):\n",
    "    \n",
    "    result2 = \" \".join([x, \" X \", extract_values_with_char(questions, y)[0].replace(\"\\n\",\" \")])\n",
    "    print(result2)\n",
    "\n",
    "    # result2 = extract_values_with_char(questions, y)\n",
    "\n",
    "    data[x] = data[x].where(data[x] != data[x].str.upper(), \"DK/SKP/REF\")\n",
    "    data[y] = data[y].where(data[y] != data[y].str.upper(), \"DK/SKP/REF\")\n",
    "\n",
    "\n",
    "    return print(ggplot(data) + \n",
    "                    aes(x = x, y = \"FINALWT\", fill = y) +\n",
    "                    geom_bar(stat = \"identity\", position = \"fill\") +\n",
    "                    # labs(x = x, y = \"PROPORTION\", fill = \"Response\", title = \" \".join([x, \"x\", result2[0].replace(\"\",\"\")])) +\n",
    "                    labs(x = x, y = \"PROPORTION\", fill = \"Response\") +\n",
    "                    theme(axis_text_x=element_text(angle=45, hjust=1))\n",
    "        )\n",
    "\n",
    "# print(plotxyz)\n",
    "# print(result2)\n",
    "# print(questions)"
   ]
  }
 ],
 "metadata": {
  "kernelspec": {
   "display_name": "Python 3",
   "language": "python",
   "name": "python3"
  },
  "language_info": {
   "codemirror_mode": {
    "name": "ipython",
    "version": 3
   },
   "file_extension": ".py",
   "mimetype": "text/x-python",
   "name": "python",
   "nbconvert_exporter": "python",
   "pygments_lexer": "ipython3",
   "version": "3.8.9"
  }
 },
 "nbformat": 4,
 "nbformat_minor": 2
}
