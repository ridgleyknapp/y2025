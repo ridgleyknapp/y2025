{
 "cells": [
  {
   "cell_type": "code",
   "execution_count": 3,
   "metadata": {},
   "outputs": [
    {
     "name": "stdout",
     "output_type": "stream",
     "text": [
      "Using version 25.1.12\n",
      "['Whole Foods- IL - Halsted (Prepared Foods Bag)', 'Whole Foods- IL - Halsted (Bakery Bag)']\n"
     ]
    }
   ],
   "source": [
    "import tgtg\n",
    "from tgtg import TgtgClient\n",
    "import schedule\n",
    "import time\n",
    "import pandas as pd\n",
    "import PySimpleGUI as sg\n",
    "import schedule\n",
    "import time\n",
    "\n",
    "\n",
    "# client = TgtgClient(email=\"<ridgley.knapp@gmail.com>\")\n",
    "# credentials = client.get_credentials()\n",
    "\n",
    "\n",
    "client = TgtgClient(access_token=\"eyJhbGciOiJIUzI1NiIsInR5cCI6IkpXVCJ9.eyJleHAiOjE3MzgyMDg0MzksImlhdCI6MTczODAzNTYzOSwiaXNzIjoidGd0Z19zb3RlcmlhIiwidCI6ImlKX3lyVGQ2UmJHdzlGbVdWe\\\n",
    "lJxTHc6MToxIiwic3ViIjoiMTAyNzU1MTAyMjc2OTE1NzQ1In0.e7LEEidsEbSW5o-zaAlN2deL2TEHHuyZhSln59XTM_I\", refresh_token=\"eyJhbGciOiJIUzI1NiIsInR5cCI6IkpXVCJ9.eyJleHAiOjE3Njk1NzE2MzksImlhdCI\\\n",
    "6MTczODAzNTYzOSwiaXNzIjoidGd0Z19zb3RlcmlhIiwidCI6IkZfbVI5UmdCUjJxaVNhWC1BU1N3Mmc6MTowIiwic3ViIjoiMTAyNzU1MTAyMjc2OTE1NzQ1In0.MBXtaWKjVIJyfHJRGi0H1z9a5fgp076UEHIQk_3mMSI\", cookie=\"d\\\n",
    "atadome=PVQvNUkt0rWu2Ew_6wpqF7LkrxtLEYCifQS7Jkhaksedqko4DGC5wq_4YS6M01MxnLdnO1HFFOA~fmoxPPQf~rlzK41rn9Pg3Qnsrc46LLqgGjXb4CWNl7b3NCImB01Q;\")\n",
    "\n",
    "def tgtg_job():\n",
    "    global items\n",
    "    items = client.get_items(\n",
    "        favorites_only=False,\n",
    "        latitude=41.948401,\n",
    "        longitude=-87.650231,\n",
    "        radius=10,\n",
    "    )\n",
    "\n",
    "    df = pd.DataFrame(items)\n",
    "\n",
    "    filtered_list = list(filter(lambda x: 'Whole Foods' in x, df['display_name'].values.tolist()))\n",
    "\n",
    "    if filtered_list:\n",
    "        print(filtered_list)\n",
    "\n",
    "    #print(items)\n",
    "\n",
    "tgtg_job()\n",
    "\n"
   ]
  },
  {
   "cell_type": "code",
   "execution_count": 4,
   "metadata": {},
   "outputs": [],
   "source": [
    "\n",
    "# #popup gen\n",
    "# import PySimpleGUI as sg\n",
    "# import schedule\n",
    "# import time\n",
    "\n",
    "# filtered_list = 'true'\n",
    "\n",
    "# def job(): \n",
    "#     if filtered_list:\n",
    "\n",
    "#         layout = [  [sg.Text(\"get your ass to whole foods ! ! ! \", font = (\"Calibri\", 24))]]\n",
    "\n",
    "#         window = sg.Window('WF Tracker',layout)\n",
    "\n",
    "#         while True:\n",
    "#             event, values = window.read()\n",
    "#             if event == sg.WIN_CLOSED or event == 'Cancel':\n",
    "#                 break\n",
    "#             print('You entered ',values[0])\n",
    "\n",
    "#         window.close()\n",
    "\n",
    "# schedule.every(10).seconds.do(job)\n",
    "\n",
    "# while True:\n",
    "#     schedule.run_pending()\n",
    "\n",
    "\n",
    "# # goal: every 2 hours, run tgtg API to see if there is a WF deal. if there is, trigger the pop-up. if there is not, do not trigger the popup.\n",
    "#     # secondary goal: add a snooze button to toggle program off for a day maybe\n",
    "\n",
    "\n",
    "# #scheduled pull \n",
    "    \n",
    "# # schedule.every().day.at(\"10:30\").do(tgtg_job)\n",
    "# # schedule.every().day.at(\"14:15\").do(tgtg_job)\n",
    "# # schedule.every().day.at(\"17:00\").do(tgtg_job)\n",
    "#     # while True:\n",
    "#     # schedule.run_pending()\n",
    "#     # time.sleep(1)"
   ]
  }
 ],
 "metadata": {
  "kernelspec": {
   "display_name": "Python 3",
   "language": "python",
   "name": "python3"
  },
  "language_info": {
   "codemirror_mode": {
    "name": "ipython",
    "version": 3
   },
   "file_extension": ".py",
   "mimetype": "text/x-python",
   "name": "python",
   "nbconvert_exporter": "python",
   "pygments_lexer": "ipython3",
   "version": "3.13.1"
  }
 },
 "nbformat": 4,
 "nbformat_minor": 2
}
