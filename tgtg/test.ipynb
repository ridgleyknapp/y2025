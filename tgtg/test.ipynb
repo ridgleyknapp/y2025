{
 "cells": [
  {
   "cell_type": "code",
   "execution_count": 1,
   "metadata": {},
   "outputs": [
    {
     "ename": "ModuleNotFoundError",
     "evalue": "No module named 'tgtg'",
     "output_type": "error",
     "traceback": [
      "\u001b[0;31m---------------------------------------------------------------------------\u001b[0m",
      "\u001b[0;31mModuleNotFoundError\u001b[0m                       Traceback (most recent call last)",
      "\u001b[1;32m/Users/yehyland/iCloud Drive (Archive)/Desktop/RPK/githublink/y2025/y2025/tgtg/test.ipynb Cell 1\u001b[0m line \u001b[0;36m1\n\u001b[0;32m----> <a href='vscode-notebook-cell:/Users/yehyland/iCloud%20Drive%20%28Archive%29/Desktop/RPK/githublink/y2025/y2025/tgtg/test.ipynb#W0sZmlsZQ%3D%3D?line=0'>1</a>\u001b[0m \u001b[39mimport\u001b[39;00m \u001b[39mtgtg\u001b[39;00m\n\u001b[1;32m      <a href='vscode-notebook-cell:/Users/yehyland/iCloud%20Drive%20%28Archive%29/Desktop/RPK/githublink/y2025/y2025/tgtg/test.ipynb#W0sZmlsZQ%3D%3D?line=1'>2</a>\u001b[0m \u001b[39mfrom\u001b[39;00m \u001b[39mtgtg\u001b[39;00m \u001b[39mimport\u001b[39;00m TgtgClient\n\u001b[1;32m      <a href='vscode-notebook-cell:/Users/yehyland/iCloud%20Drive%20%28Archive%29/Desktop/RPK/githublink/y2025/y2025/tgtg/test.ipynb#W0sZmlsZQ%3D%3D?line=3'>4</a>\u001b[0m client \u001b[39m=\u001b[39m TgtgClient(email\u001b[39m=\u001b[39m\u001b[39m\"\u001b[39m\u001b[39m<ridgley.knapp@gmail.com>\u001b[39m\u001b[39m\"\u001b[39m)\n",
      "\u001b[0;31mModuleNotFoundError\u001b[0m: No module named 'tgtg'"
     ]
    }
   ],
   "source": [
    "import tgtg\n",
    "from tgtg import TgtgClient\n",
    "\n",
    "client = TgtgClient(email=\"<ridgley.knapp@gmail.com>\")\n",
    "credentials = client.get_credentials()"
   ]
  }
 ],
 "metadata": {
  "kernelspec": {
   "display_name": "Python 3",
   "language": "python",
   "name": "python3"
  },
  "language_info": {
   "codemirror_mode": {
    "name": "ipython",
    "version": 3
   },
   "file_extension": ".py",
   "mimetype": "text/x-python",
   "name": "python",
   "nbconvert_exporter": "python",
   "pygments_lexer": "ipython3",
   "version": "3.0.0"
  }
 },
 "nbformat": 4,
 "nbformat_minor": 2
}
